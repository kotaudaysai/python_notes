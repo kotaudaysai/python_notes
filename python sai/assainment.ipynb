{
 "cells": [
  {
   "cell_type": "code",
   "execution_count": 10,
   "metadata": {},
   "outputs": [
    {
     "name": "stdout",
     "output_type": "stream",
     "text": [
      "lo\n"
     ]
    }
   ],
   "source": [
    "ch=input()\n",
    "if (ord(ch[0]))==ord(ch[-1]):\n",
    "    if ord(ch[-2])>=90 and ord(ch[-2])<=100:\n",
    "      print(\"equal\")\n",
    "    else:\n",
    "       print(\"NOT equal\")\n",
    "else:\n",
    "   print(ch) \n"
   ]
  },
  {
   "cell_type": "code",
   "execution_count": 14,
   "metadata": {},
   "outputs": [
    {
     "name": "stdout",
     "output_type": "stream",
     "text": [
      "grater then 10\n"
     ]
    }
   ],
   "source": [
    "num=int(input(\"grter then 10\"))\n",
    "if num>10:\n",
    "    print(\"grater then 10\")\n",
    "\n",
    "\n"
   ]
  },
  {
   "cell_type": "code",
   "execution_count": null,
   "metadata": {},
   "outputs": [],
   "source": [
    "write a program to check ascii value of the legth of the given string is even or odd"
   ]
  },
  {
   "cell_type": "code",
   "execution_count": 19,
   "metadata": {},
   "outputs": [
    {
     "name": "stdout",
     "output_type": "stream",
     "text": [
      "odd\n"
     ]
    }
   ],
   "source": [
    "st=input()\n",
    "s=len(st)\n",
    "s2=chr(s)\n",
    "s3=ord(s2)\n",
    "if s3%2==0:\n",
    "     print(\"even\")\n",
    "else:\n",
    "     print(\"odd\")"
   ]
  },
  {
   "cell_type": "code",
   "execution_count": null,
   "metadata": {},
   "outputs": [],
   "source": [
    "write p to check wheher the ascii value middile char of given string equal the ascii value of the legth of given string"
   ]
  },
  {
   "cell_type": "code",
   "execution_count": 29,
   "metadata": {},
   "outputs": [
    {
     "name": "stdout",
     "output_type": "stream",
     "text": [
      "not same\n"
     ]
    }
   ],
   "source": [
    "st=input()\n",
    "mid=len(st)//2\n",
    "s1=str(mid)\n",
    "s2=ord(s1)\n",
    "l=len(st)\n",
    "l1=str(l)\n",
    "l2=ord(l1)\n",
    "if s2==l2:\n",
    "    print(\"same\")\n",
    "else:\n",
    "    print(\"not same\")"
   ]
  },
  {
   "cell_type": "code",
   "execution_count": null,
   "metadata": {},
   "outputs": [],
   "source": [
    "assainment simle if"
   ]
  },
  {
   "cell_type": "code",
   "execution_count": 1,
   "metadata": {},
   "outputs": [
    {
     "name": "stdout",
     "output_type": "stream",
     "text": [
      "positve\n"
     ]
    }
   ],
   "source": [
    "num=int(input())\n",
    "if num>0:\n",
    "    print(\"positve\")"
   ]
  },
  {
   "cell_type": "code",
   "execution_count": 2,
   "metadata": {},
   "outputs": [
    {
     "name": "stdout",
     "output_type": "stream",
     "text": [
      "hello world\n"
     ]
    }
   ],
   "source": [
    "num=int(input())\n",
    "if num>1 and num<5:\n",
    "    print(\"hello world\")"
   ]
  },
  {
   "cell_type": "code",
   "execution_count": 3,
   "metadata": {},
   "outputs": [
    {
     "name": "stdout",
     "output_type": "stream",
     "text": [
      "fizz\n"
     ]
    }
   ],
   "source": [
    "num=int(input())\n",
    "if num%3==0:\n",
    "    print(\"fizz\")"
   ]
  },
  {
   "cell_type": "code",
   "execution_count": 8,
   "metadata": {},
   "outputs": [
    {
     "name": "stdout",
     "output_type": "stream",
     "text": [
      "(12+0j)\n"
     ]
    }
   ],
   "source": [
    "num=int(input())\n",
    "if num%2==0 and num%6==0:\n",
    "    print(complex(num))"
   ]
  },
  {
   "cell_type": "code",
   "execution_count": 19,
   "metadata": {},
   "outputs": [
    {
     "name": "stdout",
     "output_type": "stream",
     "text": [
      "['3', '0']\n"
     ]
    }
   ],
   "source": [
    "num=int(input())\n",
    "if num%3==0 or num%5==0:\n",
    "    num1=str(num)\n",
    "    num2=list(num1)\n",
    "    print(num2)"
   ]
  },
  {
   "cell_type": "code",
   "execution_count": 20,
   "metadata": {},
   "outputs": [
    {
     "name": "stdout",
     "output_type": "stream",
     "text": [
      "true\n"
     ]
    }
   ],
   "source": [
    "num=int(input())\n",
    "if num%5==0:\n",
    "    print(\"true\")"
   ]
  },
  {
   "cell_type": "code",
   "execution_count": 21,
   "metadata": {},
   "outputs": [
    {
     "name": "stdout",
     "output_type": "stream",
     "text": [
      "zero\n"
     ]
    }
   ],
   "source": [
    "num=int(input())\n",
    "if num==0:\n",
    "    print(\"zero\")"
   ]
  },
  {
   "cell_type": "code",
   "execution_count": 22,
   "metadata": {},
   "outputs": [
    {
     "name": "stdout",
     "output_type": "stream",
     "text": [
      "negitive\n"
     ]
    }
   ],
   "source": [
    "num=int(input())\n",
    "if num<0:\n",
    "    print(\"negitive\")"
   ]
  },
  {
   "cell_type": "code",
   "execution_count": 23,
   "metadata": {},
   "outputs": [
    {
     "name": "stdout",
     "output_type": "stream",
     "text": [
      "['1', '2']\n"
     ]
    }
   ],
   "source": [
    "num=int(input())\n",
    "num1=str(num)\n",
    "num2=list(num1)\n",
    "if num%2==0:\n",
    "    print(num2)"
   ]
  },
  {
   "cell_type": "code",
   "execution_count": 25,
   "metadata": {},
   "outputs": [
    {
     "name": "stdout",
     "output_type": "stream",
     "text": [
      "('3',)\n"
     ]
    }
   ],
   "source": [
    "num=int(input())\n",
    "num1=str(num)\n",
    "num2=list(num1)\n",
    "num3=tuple(num2)\n",
    "if num%2==1:\n",
    "    print(num3)\n"
   ]
  },
  {
   "cell_type": "code",
   "execution_count": 27,
   "metadata": {},
   "outputs": [
    {
     "name": "stdout",
     "output_type": "stream",
     "text": [
      "40\n"
     ]
    }
   ],
   "source": [
    "num=int(input())\n",
    "if num%2==0:\n",
    "    print(num*4)\n"
   ]
  },
  {
   "cell_type": "code",
   "execution_count": 31,
   "metadata": {},
   "outputs": [
    {
     "name": "stdout",
     "output_type": "stream",
     "text": [
      "27\n"
     ]
    }
   ],
   "source": [
    "num=int(input())\n",
    "if (num>0 or num<0 or num==0):\n",
    "    print(num+2)"
   ]
  },
  {
   "cell_type": "code",
   "execution_count": 28,
   "metadata": {},
   "outputs": [
    {
     "name": "stdout",
     "output_type": "stream",
     "text": [
      "1225\n"
     ]
    }
   ],
   "source": [
    "num=int(input())\n",
    "if num%5==0 and num%7==0:\n",
    "    print(num**2)"
   ]
  },
  {
   "cell_type": "code",
   "execution_count": 37,
   "metadata": {},
   "outputs": [
    {
     "name": "stdout",
     "output_type": "stream",
     "text": [
      "1\n",
      "True\n"
     ]
    }
   ],
   "source": [
    "num=int(input())\n",
    "lastdigit=num//10\n",
    "print(lastdigit)\n",
    "if(lastdigit):\n",
    "    print(num>2)\n",
    "\n"
   ]
  },
  {
   "cell_type": "code",
   "execution_count": 38,
   "metadata": {},
   "outputs": [
    {
     "name": "stdout",
     "output_type": "stream",
     "text": [
      "1089\n"
     ]
    }
   ],
   "source": [
    "num=int(input())\n",
    "if num%3==0 and num>30:\n",
    "    print(num**2)"
   ]
  },
  {
   "cell_type": "code",
   "execution_count": 39,
   "metadata": {},
   "outputs": [
    {
     "name": "stdout",
     "output_type": "stream",
     "text": [
      "4096\n"
     ]
    }
   ],
   "source": [
    "num=int(input())\n",
    "if (num%2==0) and (num%4==0):\n",
    "    print(num**3)\n",
    "\n"
   ]
  },
  {
   "cell_type": "code",
   "execution_count": 6,
   "metadata": {},
   "outputs": [
    {
     "name": "stdout",
     "output_type": "stream",
     "text": [
      "['6', '6']\n"
     ]
    }
   ],
   "source": [
    "num=int(input())\n",
    "if num%2==0:\n",
    "    num1=str(num)\n",
    "    num2=list(num1)\n",
    "    print(num2)"
   ]
  },
  {
   "cell_type": "code",
   "execution_count": 11,
   "metadata": {},
   "outputs": [
    {
     "name": "stdout",
     "output_type": "stream",
     "text": [
      "True\n"
     ]
    }
   ],
   "source": [
    "num=int(input())\n",
    "if (num//10):\n",
    "    num1=(num<0)\n",
    "    num2=(num%2==0)\n",
    "    print(num2)"
   ]
  },
  {
   "cell_type": "code",
   "execution_count": 2,
   "metadata": {},
   "outputs": [
    {
     "name": "stdout",
     "output_type": "stream",
     "text": [
      "-778688\n"
     ]
    }
   ],
   "source": [
    "num=int(input())\n",
    "if ((num<0) and (num%2==1) or (num%4==0)):\n",
    "    print(num**3) \n"
   ]
  },
  {
   "cell_type": "code",
   "execution_count": 3,
   "metadata": {},
   "outputs": [
    {
     "name": "stdout",
     "output_type": "stream",
     "text": [
      "t\n"
     ]
    }
   ],
   "source": [
    "num=int(input())\n",
    "if num%4==0 and num%2==0:\n",
    "    print(chr(num))"
   ]
  },
  {
   "cell_type": "code",
   "execution_count": 4,
   "metadata": {},
   "outputs": [
    {
     "name": "stdout",
     "output_type": "stream",
     "text": [
      "x\n"
     ]
    }
   ],
   "source": [
    "num=int(input())\n",
    "if num>45 and num<125 and num%4==0 and num%5==0 or num%2==0:\n",
    "    print(chr(num))"
   ]
  },
  {
   "cell_type": "code",
   "execution_count": 5,
   "metadata": {},
   "outputs": [
    {
     "name": "stdout",
     "output_type": "stream",
     "text": [
      "200\n"
     ]
    }
   ],
   "source": [
    "num=int(input())\n",
    "if num>25 and num<100 and num%4==0 or num%5==0:\n",
    "    print(num*5)\n"
   ]
  },
  {
   "cell_type": "code",
   "execution_count": 2,
   "metadata": {},
   "outputs": [
    {
     "name": "stdout",
     "output_type": "stream",
     "text": [
      "1\n"
     ]
    }
   ],
   "source": []
  },
  {
   "cell_type": "code",
   "execution_count": null,
   "metadata": {},
   "outputs": [],
   "source": []
  },
  {
   "cell_type": "code",
   "execution_count": null,
   "metadata": {},
   "outputs": [],
   "source": []
  },
  {
   "cell_type": "code",
   "execution_count": 17,
   "metadata": {},
   "outputs": [
    {
     "name": "stdout",
     "output_type": "stream",
     "text": [
      "True\n"
     ]
    }
   ],
   "source": [
    "num=int(input())\n",
    "num1=int(input())\n",
    "if num==num1:\n",
    "    u=num*num1\n",
    "    print(u%3==0)"
   ]
  },
  {
   "cell_type": "code",
   "execution_count": 19,
   "metadata": {},
   "outputs": [
    {
     "name": "stdout",
     "output_type": "stream",
     "text": [
      "{'H': 72}\n"
     ]
    }
   ],
   "source": [
    "ch=input()\n",
    "if ch>='A' and ch<='Z':\n",
    "    ch1=ord(ch)\n",
    "    dict={ch:ch1}\n",
    "    print(dict)\n"
   ]
  },
  {
   "cell_type": "code",
   "execution_count": 20,
   "metadata": {},
   "outputs": [
    {
     "name": "stdout",
     "output_type": "stream",
     "text": [
      "{'G': 71}\n"
     ]
    }
   ],
   "source": [
    "ch=input()\n",
    "if ch>='A' and ch<='Z':\n",
    "    ch1=ord(ch)\n",
    "    dict={ch:ch1}   \n",
    "    print(dict)"
   ]
  },
  {
   "cell_type": "code",
   "execution_count": 23,
   "metadata": {},
   "outputs": [
    {
     "name": "stdout",
     "output_type": "stream",
     "text": [
      "{'k': 'K'}\n"
     ]
    }
   ],
   "source": [
    "ch=input()\n",
    "if ch>='A' and ch<='z':\n",
    "    ch1=ord(ch)+32\n",
    "    dict={chr(ch1):ch}\n",
    "    print(dict)"
   ]
  },
  {
   "cell_type": "code",
   "execution_count": 24,
   "metadata": {},
   "outputs": [
    {
     "name": "stdout",
     "output_type": "stream",
     "text": [
      "gg\n"
     ]
    }
   ],
   "source": [
    "ch=input()\n",
    "if ch>='a' and ch<='z':\n",
    "    print(ch*2)"
   ]
  },
  {
   "cell_type": "code",
   "execution_count": null,
   "metadata": {},
   "outputs": [],
   "source": [
    "32"
   ]
  },
  {
   "cell_type": "code",
   "execution_count": 38,
   "metadata": {},
   "outputs": [
    {
     "name": "stdout",
     "output_type": "stream",
     "text": [
      "h\n",
      "104\n"
     ]
    }
   ],
   "source": [
    "ch=input()\n",
    "if (ch>='a' and ch<='z' or ch>'A' and ch<'Z' or ch>='0' and ch<='9'):\n",
    "    print(ch)\n",
    "    print(ord(ch))"
   ]
  },
  {
   "cell_type": "code",
   "execution_count": 40,
   "metadata": {},
   "outputs": [
    {
     "name": "stdout",
     "output_type": "stream",
     "text": [
      "even number\n"
     ]
    }
   ],
   "source": [
    "ch=input()\n",
    "u=ord(ch)\n",
    "if u%2==0:\n",
    "    print(\"even number\")"
   ]
  },
  {
   "cell_type": "code",
   "execution_count": 41,
   "metadata": {},
   "outputs": [
    {
     "name": "stdout",
     "output_type": "stream",
     "text": [
      "100\n"
     ]
    }
   ],
   "source": [
    "u=int(input())\n",
    "v=int(input())\n",
    "if u==10 and v==10 or u+v==10:\n",
    "    h=u+v\n",
    "    print(h**2)"
   ]
  },
  {
   "cell_type": "code",
   "execution_count": 42,
   "metadata": {},
   "outputs": [
    {
     "name": "stdout",
     "output_type": "stream",
     "text": [
      "c\n"
     ]
    }
   ],
   "source": [
    "ch=input()\n",
    "if ch in 'AEIOUaeiou':\n",
    "    ch1=chr(ord(ch)+1)\n",
    "    print(ch1)"
   ]
  },
  {
   "cell_type": "code",
   "execution_count": 45,
   "metadata": {},
   "outputs": [
    {
     "name": "stdout",
     "output_type": "stream",
     "text": [
      "c\n"
     ]
    }
   ],
   "source": [
    "ch=input()\n",
    "if ch not in 'aeiouAEIOU':\n",
    "    ch1=chr(ord(ch)-1)\n",
    "    print(ch1)"
   ]
  },
  {
   "cell_type": "code",
   "execution_count": 56,
   "metadata": {},
   "outputs": [
    {
     "name": "stdout",
     "output_type": "stream",
     "text": [
      "<class 'float'>\n",
      "5.6\n"
     ]
    }
   ],
   "source": [
    "num=5.6\n",
    "if type(num) in[int,float,bool,complex]:\n",
    "    print(type(num))\n",
    "    print(num)"
   ]
  },
  {
   "cell_type": "code",
   "execution_count": 57,
   "metadata": {},
   "outputs": [
    {
     "name": "stdout",
     "output_type": "stream",
     "text": [
      "<class 'list'>\n",
      "[2, 6]\n"
     ]
    }
   ],
   "source": [
    "num=[2,6]\n",
    "if type(num)in[str,tuple,list]:\n",
    "    print(type(num))\n",
    "    print(num)"
   ]
  },
  {
   "cell_type": "code",
   "execution_count": 65,
   "metadata": {},
   "outputs": [
    {
     "name": "stdout",
     "output_type": "stream",
     "text": [
      "{'2'}\n"
     ]
    }
   ],
   "source": [
    "num=(2)\n",
    "if type(num)in[int,bool,float,str,tuple]:\n",
    "    num1=str(num)\n",
    "    num2=set(num1)\n",
    "    print(num2)"
   ]
  }
 ],
 "metadata": {
  "kernelspec": {
   "display_name": "Python 3",
   "language": "python",
   "name": "python3"
  },
  "language_info": {
   "codemirror_mode": {
    "name": "ipython",
    "version": 3
   },
   "file_extension": ".py",
   "mimetype": "text/x-python",
   "name": "python",
   "nbconvert_exporter": "python",
   "pygments_lexer": "ipython3",
   "version": "3.12.2"
  }
 },
 "nbformat": 4,
 "nbformat_minor": 2
}
